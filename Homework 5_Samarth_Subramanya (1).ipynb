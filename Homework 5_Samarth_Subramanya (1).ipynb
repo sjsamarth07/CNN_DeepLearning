{
 "cells": [
  {
   "cell_type": "markdown",
   "metadata": {},
   "source": [
    "# LeNet-5\n",
    "1. Data preparation\n",
    "    -- load data\n",
    "    -- padding image (28*28 --> 32*32)\n",
    "    -- dimensionality expanding\n",
    "2. AlexNet-5 Model\n",
    "\n",
    "3. Model training and test"
   ]
  },
  {
   "cell_type": "code",
   "execution_count": 14,
   "metadata": {},
   "outputs": [],
   "source": [
    "import numpy as np\n",
    "import keras\n",
    "import keras.layers as layers\n",
    "import matplotlib.pyplot as plt\n"
   ]
  },
  {
   "cell_type": "code",
   "execution_count": 2,
   "metadata": {},
   "outputs": [
    {
     "data": {
      "image/png": "[encoded data removed]",
      "text/plain": [
       "<Figure size 432x288 with 16 Axes>"
      ]
     },
     "metadata": {
      "needs_background": "light"
     },
     "output_type": "display_data"
    },
    {
     "name": "stdout",
     "output_type": "stream",
     "text": [
      "training set shape: (60000, 28, 28) \r\n",
      "test set shape: (10000, 28, 28)\n",
      "training set shape: (60000, 32, 32) \r\n",
      "test set shape: (10000, 32, 32)\n",
      "training set shape: (60000, 32, 32, 1) \r\n",
      "test set shape: (10000, 32, 32, 1)\n",
      "First 10 labels:  [5 0 4 1 9 2 1 3 1 4]\n",
      "First 10 one-hot labels:  [[0. 0. 0. 0. 0. 1. 0. 0. 0. 0.]\n",
      " [1. 0. 0. 0. 0. 0. 0. 0. 0. 0.]\n",
      " [0. 0. 0. 0. 1. 0. 0. 0. 0. 0.]\n",
      " [0. 1. 0. 0. 0. 0. 0. 0. 0. 0.]\n",
      " [0. 0. 0. 0. 0. 0. 0. 0. 0. 1.]\n",
      " [0. 0. 1. 0. 0. 0. 0. 0. 0. 0.]\n",
      " [0. 1. 0. 0. 0. 0. 0. 0. 0. 0.]\n",
      " [0. 0. 0. 1. 0. 0. 0. 0. 0. 0.]\n",
      " [0. 1. 0. 0. 0. 0. 0. 0. 0. 0.]\n",
      " [0. 0. 0. 0. 1. 0. 0. 0. 0. 0.]]\n"
     ]
    }
   ],
   "source": [
    "def load_digits2d(show_sample = True):\n",
    "    (x_train, y_train), (x_test, y_test) = keras.datasets.mnist.load_data()  \n",
    "    \n",
    "    #show first 16 images\n",
    "    if show_sample == True:\n",
    "        nImg = 4\n",
    "        for i in range(nImg*nImg):\n",
    "            plt.subplot(nImg, nImg, i+1)\n",
    "            plt.imshow(x_train[i], cmap = 'Greys_r')\n",
    "            plt.title('Label: %d' % (y_train[i]))\n",
    "        plt.show()\n",
    "    \n",
    "    return x_train, y_train, x_test, y_test\n",
    "\n",
    "x_train, y_train, x_test, y_test = load_digits2d(show_sample = True)\n",
    "print('training set shape:', x_train.shape, '\\r\\ntest set shape:', x_test.shape)\n",
    "\n",
    "x_train_1 = np.pad(x_train, ((0,0), (2,2),(2,2)), 'constant')\n",
    "x_test_1 = np.pad(x_test, ((0,0), (2,2),(2,2)), 'constant')\n",
    "print('training set shape:', x_train_1.shape, '\\r\\ntest set shape:', x_test_1.shape)\n",
    "\n",
    "x_train_2 = np.expand_dims(x_train_1, axis = 3)\n",
    "x_test_2 = np.expand_dims(x_test_1, axis = 3)\n",
    "\n",
    "print('training set shape:', x_train_2.shape, '\\r\\ntest set shape:', x_test_2.shape)\n",
    "\n",
    "y_train_onehot = keras.utils.to_categorical(y_train)\n",
    "print('First 10 labels: ', y_train[:10])\n",
    "print('First 10 one-hot labels: ', y_train_onehot[:10])"
   ]
  },
  {
   "cell_type": "code",
   "execution_count": 3,
   "metadata": {},
   "outputs": [
    {
     "name": "stdout",
     "output_type": "stream",
     "text": [
      "Model: \"sequential_1\"\n",
      "_________________________________________________________________\n",
      "Layer (type)                 Output Shape              Param #   \n",
      "=================================================================\n",
      "conv2d_1 (Conv2D)            (None, 30, 30, 6)         60        \n",
      "_________________________________________________________________\n",
      "average_pooling2d_1 (Average (None, 15, 15, 6)         0         \n",
      "_________________________________________________________________\n",
      "conv2d_2 (Conv2D)            (None, 13, 13, 16)        880       \n",
      "_________________________________________________________________\n",
      "average_pooling2d_2 (Average (None, 6, 6, 16)          0         \n",
      "_________________________________________________________________\n",
      "flatten_1 (Flatten)          (None, 576)               0         \n",
      "_________________________________________________________________\n",
      "dense_1 (Dense)              (None, 120)               69240     \n",
      "_________________________________________________________________\n",
      "dense_2 (Dense)              (None, 84)                10164     \n",
      "_________________________________________________________________\n",
      "dense_3 (Dense)              (None, 10)                850       \n",
      "=================================================================\n",
      "Total params: 81,194\n",
      "Trainable params: 81,194\n",
      "Non-trainable params: 0\n",
      "_________________________________________________________________\n"
     ]
    }
   ],
   "source": [
    "#LeNet-5 Architecure\n",
    "model = keras.Sequential()\n",
    "\n",
    "model.add(layers.Conv2D(filters=6, kernel_size=(3, 3), activation='relu', input_shape=(32,32,1)))\n",
    "model.add(layers.AveragePooling2D())\n",
    "\n",
    "model.add(layers.Conv2D(filters=16, kernel_size=(3, 3), activation='relu'))\n",
    "model.add(layers.AveragePooling2D())\n",
    "\n",
    "model.add(layers.Flatten())\n",
    "\n",
    "model.add(layers.Dense(units=120, activation='relu'))\n",
    "model.add(layers.Dense(units=84, activation='relu'))\n",
    "model.add(layers.Dense(units=10, activation = 'softmax'))\n",
    "\n",
    "model.summary()"
   ]
  },
  {
   "cell_type": "code",
   "execution_count": 4,
   "metadata": {},
   "outputs": [
    {
     "name": "stdout",
     "output_type": "stream",
     "text": [
      "Train on 48000 samples, validate on 12000 samples\n",
      "Epoch 1/10\n",
      "48000/48000 [==============================] - 10s 205us/step - loss: 0.3094 - accuracy: 0.9286 - val_loss: 0.0977 - val_accuracy: 0.9711\n",
      "Epoch 2/10\n",
      "48000/48000 [==============================] - 9s 195us/step - loss: 0.0786 - accuracy: 0.9764 - val_loss: 0.0756 - val_accuracy: 0.9762\n",
      "Epoch 3/10\n",
      "48000/48000 [==============================] - 9s 190us/step - loss: 0.0531 - accuracy: 0.9832 - val_loss: 0.0666 - val_accuracy: 0.9801\n",
      "Epoch 4/10\n",
      "48000/48000 [==============================] - 9s 188us/step - loss: 0.0412 - accuracy: 0.9867 - val_loss: 0.0546 - val_accuracy: 0.9847\n",
      "Epoch 5/10\n",
      "48000/48000 [==============================] - 9s 190us/step - loss: 0.0360 - accuracy: 0.9883 - val_loss: 0.0675 - val_accuracy: 0.9812\n",
      "Epoch 6/10\n",
      "48000/48000 [==============================] - 9s 191us/step - loss: 0.0299 - accuracy: 0.9901 - val_loss: 0.0627 - val_accuracy: 0.9839\n",
      "Epoch 7/10\n",
      "48000/48000 [==============================] - 9s 188us/step - loss: 0.0267 - accuracy: 0.9912 - val_loss: 0.0608 - val_accuracy: 0.9835\n",
      "Epoch 8/10\n",
      "48000/48000 [==============================] - 9s 190us/step - loss: 0.0211 - accuracy: 0.9930 - val_loss: 0.0532 - val_accuracy: 0.9857\n",
      "Epoch 9/10\n",
      "48000/48000 [==============================] - 9s 189us/step - loss: 0.0191 - accuracy: 0.9937 - val_loss: 0.0583 - val_accuracy: 0.9844\n",
      "Epoch 10/10\n",
      "48000/48000 [==============================] - 9s 190us/step - loss: 0.0186 - accuracy: 0.9941 - val_loss: 0.0510 - val_accuracy: 0.9868\n"
     ]
    }
   ],
   "source": [
    "model.compile(loss=keras.losses.categorical_crossentropy, optimizer=keras.optimizers.Adam(), metrics=['accuracy'])\n",
    "\n",
    "\n",
    "history = model.fit(x_train_2, y_train_onehot,\n",
    "                    batch_size=64, epochs=10,\n",
    "                    verbose=1,\n",
    "                    validation_split=0.2)"
   ]
  },
  {
   "cell_type": "code",
   "execution_count": 5,
   "metadata": {},
   "outputs": [
    {
     "name": "stdout",
     "output_type": "stream",
     "text": [
      "10000/10000 [==============================] - 1s 74us/step\n",
      "Test loss: 0.039934174446453106\n",
      "Test accrcy: 0.9889000058174133\n"
     ]
    }
   ],
   "source": [
    "# test accuray\n",
    "score = model.evaluate(x_test_2, keras.utils.to_categorical(y_test))\n",
    "print('Test loss:', score[0])\n",
    "print('Test accrcy:', score[1])"
   ]
  },
  {
   "cell_type": "code",
   "execution_count": 6,
   "metadata": {},
   "outputs": [
    {
     "name": "stdout",
     "output_type": "stream",
     "text": [
      "Model: \"sequential_2\"\n",
      "_________________________________________________________________\n",
      "Layer (type)                 Output Shape              Param #   \n",
      "=================================================================\n",
      "conv2d_3 (Conv2D)            (None, 32, 32, 64)        3200      \n",
      "_________________________________________________________________\n",
      "max_pooling2d_1 (MaxPooling2 (None, 16, 16, 64)        0         \n",
      "_________________________________________________________________\n",
      "conv2d_4 (Conv2D)            (None, 16, 16, 128)       73856     \n",
      "_________________________________________________________________\n",
      "conv2d_5 (Conv2D)            (None, 16, 16, 128)       147584    \n",
      "_________________________________________________________________\n",
      "max_pooling2d_2 (MaxPooling2 (None, 8, 8, 128)         0         \n",
      "_________________________________________________________________\n",
      "conv2d_6 (Conv2D)            (None, 8, 8, 256)         295168    \n",
      "_________________________________________________________________\n",
      "conv2d_7 (Conv2D)            (None, 8, 8, 256)         590080    \n",
      "_________________________________________________________________\n",
      "max_pooling2d_3 (MaxPooling2 (None, 4, 4, 256)         0         \n",
      "_________________________________________________________________\n",
      "flatten_2 (Flatten)          (None, 4096)              0         \n",
      "_________________________________________________________________\n",
      "dense_4 (Dense)              (None, 128)               524416    \n",
      "_________________________________________________________________\n",
      "dropout_1 (Dropout)          (None, 128)               0         \n",
      "_________________________________________________________________\n",
      "dense_5 (Dense)              (None, 128)               16512     \n",
      "_________________________________________________________________\n",
      "dense_6 (Dense)              (None, 10)                1290      \n",
      "=================================================================\n",
      "Total params: 1,652,106\n",
      "Trainable params: 1,652,106\n",
      "Non-trainable params: 0\n",
      "_________________________________________________________________\n"
     ]
    }
   ],
   "source": [
    "#Simple Convolution NN \n",
    "from functools import partial\n",
    "DefaultConv2D = partial(keras.layers.Conv2D,\n",
    "                        kernel_size=3, activation='relu', padding=\"SAME\")\n",
    "\n",
    "model = keras.models.Sequential([\n",
    "    DefaultConv2D(filters=64, kernel_size=7, input_shape=[32, 32, 1]),\n",
    "    keras.layers.MaxPooling2D(pool_size=2),\n",
    "    DefaultConv2D(filters=128),\n",
    "    DefaultConv2D(filters=128),\n",
    "    keras.layers.MaxPooling2D(pool_size=2),\n",
    "    DefaultConv2D(filters=256),\n",
    "    DefaultConv2D(filters=256),\n",
    "    keras.layers.MaxPooling2D(pool_size=2),\n",
    "    keras.layers.Flatten(),\n",
    "    keras.layers.Dense(units=128, activation='relu'),\n",
    "    keras.layers.Dropout(0.5),\n",
    "    keras.layers.Dense(units=128, activation='relu'),\n",
    "    keras.layers.Dense(units=10, activation='softmax'),\n",
    "])\n",
    "model.summary()"
   ]
  },
  {
   "cell_type": "code",
   "execution_count": 7,
   "metadata": {},
   "outputs": [
    {
     "name": "stdout",
     "output_type": "stream",
     "text": [
      "Train on 48000 samples, validate on 12000 samples\n",
      "Epoch 1/9\n",
      "48000/48000 [==============================] - 244s 5ms/step - loss: 0.4095 - accuracy: 0.8921 - val_loss: 0.0791 - val_accuracy: 0.9802\n",
      "Epoch 2/9\n",
      "48000/48000 [==============================] - 242s 5ms/step - loss: 0.1326 - accuracy: 0.9663 - val_loss: 0.0821 - val_accuracy: 0.9794\n",
      "Epoch 3/9\n",
      "48000/48000 [==============================] - 242s 5ms/step - loss: 0.1258 - accuracy: 0.9681 - val_loss: 0.0958 - val_accuracy: 0.9761\n",
      "Epoch 4/9\n",
      "48000/48000 [==============================] - 242s 5ms/step - loss: 0.1143 - accuracy: 0.9718 - val_loss: 0.0764 - val_accuracy: 0.9796\n",
      "Epoch 5/9\n",
      "48000/48000 [==============================] - 242s 5ms/step - loss: 0.1006 - accuracy: 0.9758 - val_loss: 0.0672 - val_accuracy: 0.9824\n",
      "Epoch 6/9\n",
      "48000/48000 [==============================] - 242s 5ms/step - loss: 0.1000 - accuracy: 0.9768 - val_loss: 0.0745 - val_accuracy: 0.9804\n",
      "Epoch 7/9\n",
      "48000/48000 [==============================] - 236s 5ms/step - loss: 0.0928 - accuracy: 0.9778 - val_loss: 0.0710 - val_accuracy: 0.9822\n",
      "Epoch 8/9\n",
      "48000/48000 [==============================] - 235s 5ms/step - loss: 0.0981 - accuracy: 0.9769 - val_loss: 0.0789 - val_accuracy: 0.9826\n",
      "Epoch 9/9\n",
      "48000/48000 [==============================] - 236s 5ms/step - loss: 0.1182 - accuracy: 0.9747 - val_loss: 0.0664 - val_accuracy: 0.9851\n"
     ]
    }
   ],
   "source": [
    "#model train\n",
    "model.compile(loss=\"categorical_crossentropy\", optimizer=\"nadam\", metrics=[\"accuracy\"])\n",
    "history = model.fit(x_train_2, y_train_onehot,\n",
    "                    batch_size=64, epochs=9,\n",
    "                    verbose=1,\n",
    "                    validation_split=0.2)"
   ]
  },
  {
   "cell_type": "code",
   "execution_count": 8,
   "metadata": {},
   "outputs": [
    {
     "name": "stdout",
     "output_type": "stream",
     "text": [
      "Training Accrcy: 98.508333%\n"
     ]
    }
   ],
   "source": [
    "#Training Accuracy\n",
    "y_train_pred = model.predict_classes(x_train_2, verbose=0)\n",
    "correct_preds = np.sum(np.argmax(y_train_onehot, axis=1) == y_train_pred,axis = 0)\n",
    "train_acc = correct_preds / x_train_2.shape[0]\n",
    "print('Training Accrcy: %2f%%' % (train_acc*100))"
   ]
  },
  {
   "cell_type": "code",
   "execution_count": 9,
   "metadata": {},
   "outputs": [
    {
     "name": "stdout",
     "output_type": "stream",
     "text": [
      "0 99.6285666047611\n",
      "1 99.1990507267873\n",
      "2 99.31184961396443\n",
      "3 98.04273364867069\n",
      "4 97.50085587127695\n",
      "5 99.04076738609112\n",
      "6 98.64819195674214\n",
      "7 98.99441340782123\n",
      "8 96.06904802597846\n",
      "9 98.53756933938477\n"
     ]
    }
   ],
   "source": [
    "for j in range(10):\n",
    "    count = 0 \n",
    "    cnt = 0\n",
    "    for i in range(len(y_train_onehot)):\n",
    "        \n",
    "        if np.argmax(y_train_onehot[i],axis = 0) == j:\n",
    "            count += 1\n",
    "            if y_train_pred[i] == np.argmax(y_train_onehot[i],axis = 0):\n",
    "                cnt +=1\n",
    "    print(j,cnt/count*100)"
   ]
  },
  {
   "cell_type": "code",
   "execution_count": 10,
   "metadata": {},
   "outputs": [
    {
     "name": "stdout",
     "output_type": "stream",
     "text": [
      "10000/10000 [==============================] - 11s 1ms/step\n"
     ]
    }
   ],
   "source": [
    "# test accuray\n",
    "y_test_one = keras.utils.to_categorical(y_test)\n",
    "score = model.evaluate(x_test_2, y_test_one)"
   ]
  },
  {
   "cell_type": "code",
   "execution_count": 11,
   "metadata": {},
   "outputs": [
    {
     "name": "stdout",
     "output_type": "stream",
     "text": [
      "Test Accrcy: 98.44%\n"
     ]
    }
   ],
   "source": [
    "y_test_pred = model.predict_classes(x_test_2, verbose=0)\n",
    "correct_preds = np.sum(np.argmax(y_test_one, axis=1) == y_test_pred, axis=0)\n",
    "test_acc = correct_preds / x_test_2.shape[0]\n",
    "print('Test Accrcy: %.2f%%' % (test_acc * 100)) "
   ]
  },
  {
   "cell_type": "code",
   "execution_count": 12,
   "metadata": {},
   "outputs": [
    {
     "name": "stdout",
     "output_type": "stream",
     "text": [
      "0 99.18367346938776\n",
      "1 98.6784140969163\n",
      "2 99.51550387596899\n",
      "3 98.11881188118812\n",
      "4 97.9633401221996\n",
      "5 99.2152466367713\n",
      "6 97.7035490605428\n",
      "7 98.83268482490273\n",
      "8 97.5359342915811\n",
      "9 97.62140733399404\n"
     ]
    }
   ],
   "source": [
    "for j in range(10):\n",
    "    count = 0 \n",
    "    cnt = 0\n",
    "    for i in range(len(y_test_one)):\n",
    "        if np.argmax(y_test_one[i],axis = 0) == j:\n",
    "            count += 1\n",
    "            if y_test_pred[i] == np.argmax(y_test_one[i],axis = 0):\n",
    "                cnt +=1\n",
    "    print(j,cnt/count*100)"
   ]
  },
  {
   "cell_type": "code",
   "execution_count": 13,
   "metadata": {},
   "outputs": [
    {
     "name": "stdout",
     "output_type": "stream",
     "text": [
      "Test accrcy: 98.44%\n"
     ]
    }
   ],
   "source": [
    "correct_preds = np.sum(np.argmax(y_test_one, axis=1) == y_test_pred, axis=0)\n",
    "test_acc = correct_preds / x_test_2.shape[0]\n",
    "print('Test accrcy: %.2f%%' % (test_acc * 100)) \n",
    "#print(y_test_pred.shape)"
   ]
  },
  {
   "cell_type": "code",
   "execution_count": null,
   "metadata": {},
   "outputs": [],
   "source": []
  }
 ],
 "metadata": {
  "kernelspec": {
   "display_name": "Python 3",
   "language": "python",
   "name": "python3"
  },
  "language_info": {
   "codemirror_mode": {
    "name": "ipython",
    "version": 3
   },
   "file_extension": ".py",
   "mimetype": "text/x-python",
   "name": "python",
   "nbconvert_exporter": "python",
   "pygments_lexer": "ipython3",
   "version": "3.7.1"
  }
 },
 "nbformat": 4,
 "nbformat_minor": 2
}
